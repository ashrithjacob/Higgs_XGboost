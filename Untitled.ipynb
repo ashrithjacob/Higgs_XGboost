{
 "cells": [
  {
   "cell_type": "code",
   "execution_count": null,
   "id": "643bda16",
   "metadata": {},
   "outputs": [],
   "source": [
    "import numpy as np\n",
    "import pandas as pd\n",
    "import xgboost as xgb\n",
    "import matplotlib as plt\n",
    "import scipy\n",
    "import os\n",
    "import inspect\n",
    "import sys\n",
    "import hyperopt\n",
    "from hyperopt import hp, fmin ,tpe, Trials\n",
    "from xgboost import plot_tree\n",
    "from sklearn import tree"
   ]
  }
 ],
 "metadata": {
  "kernelspec": {
   "display_name": "Python 3 (ipykernel)",
   "language": "python",
   "name": "python3"
  },
  "language_info": {
   "codemirror_mode": {
    "name": "ipython",
    "version": 3
   },
   "file_extension": ".py",
   "mimetype": "text/x-python",
   "name": "python",
   "nbconvert_exporter": "python",
   "pygments_lexer": "ipython3",
   "version": "3.9.7"
  }
 },
 "nbformat": 4,
 "nbformat_minor": 5
}
